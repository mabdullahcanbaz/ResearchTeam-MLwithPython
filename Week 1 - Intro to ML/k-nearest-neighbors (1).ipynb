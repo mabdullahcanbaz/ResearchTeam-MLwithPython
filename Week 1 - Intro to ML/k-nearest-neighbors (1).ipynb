{
 "cells": [
  {
   "cell_type": "markdown",
   "id": "961f5255",
   "metadata": {},
   "source": [
    "# practice-python/machine-learning/k-nearest-neighbors.py by jwasham\n",
    "\n",
    "https://github.com/jwasham/practice-python/blob/master/machine-learning/k-nearest-neighbors.py"
   ]
  },
  {
   "cell_type": "code",
   "execution_count": 1,
   "id": "1866f60a",
   "metadata": {},
   "outputs": [],
   "source": [
    "import numpy as np\n",
    "# from scipy.spatial import distance\n",
    "from sklearn import datasets\n",
    "from sklearn.model_selection import train_test_split\n",
    "from sklearn.neighbors import KNeighborsClassifier\n",
    "from sklearn import metrics\n",
    "\n",
    "\n",
    "class KNNClassifier(object):\n",
    "    def __init__(self):\n",
    "        self.X_train = None\n",
    "        self.y_train = None\n",
    "\n",
    "    def euc_distance(self, a, b):\n",
    "        return np.linalg.norm(a-b)\n",
    "        # return distance.euclidean(a, b)\n",
    "\n",
    "    def closest(self, row):\n",
    "        \"\"\"\n",
    "        Returns the label corresponding to the single closest training example.\n",
    "        This is a k=1 nearest neighbor(s) implementation.\n",
    "        :param row:\n",
    "        :return:\n",
    "        \"\"\"\n",
    "        dist = [self.euc_distance(row, trainer) for trainer in self.X_train]\n",
    "        best_index = dist.index(min(dist))\n",
    "\n",
    "        return self.y_train[best_index]\n",
    "\n",
    "    def fit(self, training_data, training_labels):\n",
    "        self.X_train = training_data\n",
    "        self.y_train = training_labels\n",
    "\n",
    "    def predict(self, to_classify):\n",
    "        predictions = []\n",
    "        for row in to_classify:\n",
    "            label = self.closest(row)\n",
    "            predictions.append(label)\n",
    "\n",
    "        return predictions\n",
    "\n",
    "iris = datasets.load_iris()\n",
    "\n",
    "X = iris.data\n",
    "y = iris.target\n",
    "\n",
    "X_train, X_test, y_train, y_test = train_test_split(X, y, test_size=0.25)"
   ]
  },
  {
   "cell_type": "code",
   "execution_count": 2,
   "id": "125c29b9",
   "metadata": {},
   "outputs": [
    {
     "name": "stdout",
     "output_type": "stream",
     "text": [
      "Accuracy: 0.973684\n"
     ]
    }
   ],
   "source": [
    "classifier = KNeighborsClassifier(5)  # k=5 by default\n",
    "# classifier = KNNClassifier()\n",
    "classifier.fit(X_train, y_train)\n",
    "\n",
    "# print(y_train)\n",
    "\n",
    "results = classifier.predict(X_test)\n",
    "\n",
    "score = metrics.accuracy_score(y_test, results)\n",
    "\n",
    "print(\"Accuracy: {0:f}\".format(score))"
   ]
  }
 ],
 "metadata": {
  "kernelspec": {
   "display_name": "Python 3 (ipykernel)",
   "language": "python",
   "name": "python3"
  },
  "language_info": {
   "codemirror_mode": {
    "name": "ipython",
    "version": 3
   },
   "file_extension": ".py",
   "mimetype": "text/x-python",
   "name": "python",
   "nbconvert_exporter": "python",
   "pygments_lexer": "ipython3",
   "version": "3.9.10"
  }
 },
 "nbformat": 4,
 "nbformat_minor": 5
}
